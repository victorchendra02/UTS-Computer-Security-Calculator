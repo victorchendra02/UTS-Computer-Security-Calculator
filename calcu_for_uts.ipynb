{
 "cells": [
  {
   "cell_type": "code",
   "execution_count": 1,
   "metadata": {},
   "outputs": [],
   "source": [
    "__table_hex_binary = {\n",
    "    \"0\": \"0000\",\n",
    "    \"1\": \"0001\",\n",
    "    \"2\": \"0010\",\n",
    "    \"3\": \"0011\",\n",
    "    \"4\": \"0100\",\n",
    "    \"5\": \"0101\",\n",
    "    \"6\": \"0110\",\n",
    "    \"7\": \"0111\",\n",
    "    \"8\": \"1000\",\n",
    "    \"9\": \"1001\",\n",
    "    \"A\": \"1010\",\n",
    "    \"B\": \"1011\",\n",
    "    \"C\": \"1100\",\n",
    "    \"D\": \"1101\",\n",
    "    \"E\": \"1110\",\n",
    "    \"F\": \"1111\",\n",
    "}\n",
    "\n",
    "\n",
    "# Kongruensi modulo n\n",
    "def is_congruent_mod(n: int, a: int, b: int) -> bool:\n",
    "    if ((a % n) == (b % n)):\n",
    "        return True\n",
    "    return False\n",
    "\n",
    "\n",
    "# Multiplikatif modulo\n",
    "def gcd(a: int, b: int) -> int:\n",
    "    if a % b == 0:\n",
    "        return b\n",
    "    else:\n",
    "        return gcd(b, a % b)\n",
    "def is_multiplicative_inverse_exist(a: int, n: int) -> bool:\n",
    "  return gcd(a, n) == 1\n",
    "\n",
    "\n",
    "# Cari nilai invers multiplikatif\n",
    "def find_multiplicative_inverse(k: int, n: int) -> int:\n",
    "    from math import nan\n",
    "\n",
    "    \n",
    "    a = [nan, k]; b = [nan, n]\n",
    "    q = [nan, k//n]\n",
    "    r = [nan, k%n]\n",
    "    s = [1, 0]\n",
    "    t = [0, 1]\n",
    "\n",
    "    i = 1\n",
    "    while (r[i]!=0):\n",
    "        i+=1\n",
    "        a.append(b[i-1])\n",
    "        b.append(r[i-1])\n",
    "        q.append(a[i] // b[i])\n",
    "        r.append(a[i] % b[i])\n",
    "        \n",
    "        s.append(s[i-2]-(s[i-1]*q[i-1]))\n",
    "        t.append(t[i-2]-(t[i-1]*q[i-1]))\n",
    "      \n",
    "    if b[i]!=1:\n",
    "        # this is the case when the GCD is not 1\n",
    "        # print(\"Multiplicative inverse does not exist!\")\n",
    "        return -1\n",
    "    return s[i] % n\n",
    "\n",
    "\n",
    "def swap_key_value_dictionary(dct: dict) -> dict:\n",
    "    return {list(dct.values())[i]: list(dct.keys())[i] for i in range(len(dct.keys()))}\n",
    "\n",
    "\n",
    "def complete_binary(biner: str) -> str:\n",
    "    if (len(biner) % 4) == 1:\n",
    "        return (\"000\" + biner)\n",
    "    elif (len(biner) % 4) == 2:\n",
    "        return (\"00\" + biner)\n",
    "    elif (len(biner) % 4) == 3:\n",
    "        return (\"0\" + biner)\n",
    "    else:\n",
    "        return biner\n",
    "\n",
    "\n",
    "def balancing_2_binary(a: str, b: str) -> str:\n",
    "    n = abs(len(a) - len(b))\n",
    "    if n == 0:\n",
    "       return a, b\n",
    "    else:\n",
    "        if len(a) > len(b):\n",
    "            return complete_binary(a), complete_binary((\"0\"*n) + b)\n",
    "        else:\n",
    "            return complete_binary((\"0\"*n) + a), complete_binary(b)\n",
    "\n",
    "\n",
    "# ----- Converter -----\n",
    "def hex_to_binary(hex_str: str) -> str:\n",
    "    hex_str = hex_str.upper()\n",
    "    hex_str = hex_str.replace(\" \", \"\")\n",
    "    \n",
    "    result = \"\"\n",
    "    for char in hex_str:\n",
    "        if char in __table_hex_binary:\n",
    "            result += __table_hex_binary[char]\n",
    "        else:\n",
    "            raise ValueError(f\"'{char}' is not a HEX!\")\n",
    "\n",
    "    return result\n",
    "\n",
    "\n",
    "def binary_to_hex(biner: str) -> str:\n",
    "    biner = str(biner)\n",
    "    biner = biner.replace(\" \", \"\")\n",
    "    table_binary_hex = swap_key_value_dictionary(__table_hex_binary)\n",
    "\n",
    "    biner = complete_binary(biner)\n",
    "    \n",
    "    result = \"\"\n",
    "    for i in range(0, len(biner)-3, 4):\n",
    "        if biner[i:i+4] in table_binary_hex:\n",
    "            result += table_binary_hex[biner[i:i+4]]\n",
    "        else:\n",
    "            raise ValueError(f\"'{biner[i:i+4]}' is not a BINARY!\")\n",
    "\n",
    "    return result\n",
    "\n",
    "\n",
    "# ----- BINARY -----\n",
    "def add_binary(a:str, b: str) -> str:\n",
    "    a, b = balancing_2_binary(a, b)\n",
    "    \n",
    "    result = \"\"\n",
    "    for i in range(len(a)):\n",
    "        result += str((int(a[i]) + int(b[i])) % 2)\n",
    "\n",
    "    return result\n",
    "\n",
    "\n",
    "def sub_binary(a:str, b: str) -> str:\n",
    "    a, b = balancing_2_binary(a, b)\n",
    "    \n",
    "    result = \"\"\n",
    "    for i in range(len(a)):\n",
    "        result += str((int(a[i]) - int(b[i])) % 2)\n",
    "    return result\n",
    "\n",
    "\n",
    "def multiply_binary(a:str, b: str) -> str:\n",
    "    a, b = balancing_2_binary(a, b)\n",
    "    \n",
    "    def GF_multiply_by_x(P: str) -> str:\n",
    "        if P[0] == \"0\":\n",
    "            return P[1:] + \"0\"\n",
    "        else:\n",
    "            P = P[1:] + \"0\"\n",
    "            constant = \"00011011\"\n",
    "            \n",
    "            result = \"\"\n",
    "            for i in range(len(P)):\n",
    "                result += str((int(P[i]) + int(constant[i])) % 2)\n",
    "\n",
    "            return result\n",
    "\n",
    "    def GF_multiply_by_x_k(P: str, k: int) -> str:\n",
    "        new = P\n",
    "        for i in range(k):\n",
    "            new = GF_multiply_by_x(new)\n",
    "            \n",
    "        return new\n",
    "    \n",
    "    def GF_multiply(P: str, Q: str) -> str:\n",
    "        l = []\n",
    "        l.append(\"0\"*8) if Q[-1] == \"0\" else l.append(P)\n",
    "        \n",
    "        for i in range(len(P)-2, -1, -1):\n",
    "            if Q[i] != \"0\":\n",
    "                l.append(GF_multiply_by_x_k(P, abs(i-7)))\n",
    "            else:\n",
    "                l.append(\"0\"*8)\n",
    "\n",
    "        result = \"\"\n",
    "        for j in range(len(l)):\n",
    "            dumb = 0\n",
    "            for k in range(8):\n",
    "                dumb += int(l[k][j])\n",
    "                dumb = dumb % 2\n",
    "            result += str(dumb)\n",
    "\n",
    "        return result\n",
    "    \n",
    "    return GF_multiply(a, b)\n",
    "\n",
    "\n",
    "# ----- HEX -----\n",
    "def add_hex(a: str, b:str) -> str:\n",
    "    a, b = hex_to_binary(a), hex_to_binary(b)\n",
    "\n",
    "    result = add_binary(a, b)\n",
    "    result = binary_to_hex(result)\n",
    "    \n",
    "    return result\n",
    "\n",
    "\n",
    "def sub_hex(a: str, b:str) -> str:\n",
    "    a, b = hex_to_binary(a), hex_to_binary(b)\n",
    "    \n",
    "    result = sub_binary(a, b)\n",
    "    result = binary_to_hex(result)\n",
    "    \n",
    "    return result\n",
    "\n",
    "\n",
    "def multiply_hex(a:str, b: str) -> str:\n",
    "    a, b = hex_to_binary(a), hex_to_binary(b)\n",
    "    \n",
    "    result = multiply_binary(a, b)\n",
    "    result = binary_to_hex(result)\n",
    "    \n",
    "    return result\n",
    "\n",
    "\n",
    "# Block Cipher\n",
    "# (1) Transposition \n",
    "def encrypt_transposition(n: int, plain_text: str, k: list[int]) -> str:  \n",
    "    \"\"\"\n",
    "    n: int \n",
    "    menyatakan panjang list k atau panjang string m\n",
    "    \n",
    "    m: str\n",
    "    menyatakan string yang akan dienkripsi\n",
    "    \n",
    "    k: list[int]\n",
    "    menyatakan index key transposisi untuk melakukan enkripsi\n",
    "    \"\"\"\n",
    "    \n",
    "    result = [\"\" for j in range(len(k))]\n",
    "    for i in range(len(k)):\n",
    "        result[k[i]] = plain_text[i]\n",
    "\n",
    "    new = \"\"\n",
    "    for x in result:\n",
    "        new += x\n",
    "    del result\n",
    "        \n",
    "    return new\n",
    "\n",
    "\n",
    "def decrypt_transposition(n: int, cipher_text: str, k: list[int]) -> str:\n",
    "    \"\"\"\n",
    "    n: int \n",
    "    menyatakan panjang list k atau panjang string c\n",
    "    \n",
    "    c: str\n",
    "    menyatakan string yang akan didekripsi\n",
    "    \n",
    "    k: list[int]\n",
    "    menyatakan index key transposisi untuk melakukan dekripsi\n",
    "    \"\"\"\n",
    "    \n",
    "    result = [\"\" for j in range(len(k))]\n",
    "    for i in range(len(k)):\n",
    "        result[i] = cipher_text[k[i]]\n",
    "\n",
    "    new = \"\"\n",
    "    for x in result:\n",
    "        new += x\n",
    "    del result\n",
    "    \n",
    "    return new\n",
    "\n",
    "\n",
    "# (2) Substitution\n",
    "def obtain_key_substitution_block() -> dict[str]:\n",
    "    \"\"\"\n",
    "    Disini, kita tentukan secara manual substitusi block nya dan langsung outputkan dictionary    \n",
    "    \"\"\"\n",
    "    return {'111': '101', '001': '001', '100': '011', '101': '100', '010': '010', '000': '111', '110': '110', '011': '000'}\n",
    "\n",
    "\n",
    "def encrypt_substitution(n: int, plain_text: str, key: dict[str]) -> str:\n",
    "    result = \"\"\n",
    "    for i in range(0, len(plain_text)-(n-1), n):\n",
    "        if plain_text[i:i+n] in key:\n",
    "            result += key[plain_text[i:i+n]]\n",
    "        else:\n",
    "            raise ValueError(f\"'{plain_text[i:i+n]}' is not in dictionary key!\")\n",
    "    return result\n",
    "\n",
    "\n",
    "def decrypt_substitution(n: int, cipher_text: str, key: dict[str]) -> str:\n",
    "    key = swap_key_value_dictionary(key)\n",
    "    result = \"\"\n",
    "    for i in range(0, len(cipher_text)-(n-1), n):\n",
    "        if cipher_text[i:i+n] in key:\n",
    "            result += key[cipher_text[i:i+n]]\n",
    "        else:\n",
    "            raise ValueError(f\"'{cipher_text[i:i+n]}' is not in dictionary key!\")\n",
    "    return result\n",
    "\n",
    "\n",
    "def encrypt_key_whitener(n: int, m, k):\n",
    "    temp = int(len(m)/n)\n",
    "    k = k * temp\n",
    "    \n",
    "    result = \"\"\n",
    "    for i in range(len(m)):\n",
    "        result += str((int(m[i]) + int(k[i])) % 2)\n",
    "    \n",
    "    return result\n",
    "\n",
    "\n",
    "def decrypt_key_whitener(n: int, c, k):\n",
    "    temp = int(len(c)/n)\n",
    "    k = k * temp\n",
    "    \n",
    "    result = \"\"\n",
    "    for i in range(len(c)):\n",
    "        result += str((int(c[i]) - int(k[i])) % 2)\n",
    "    \n",
    "    return result\n"
   ]
  },
  {
   "attachments": {},
   "cell_type": "markdown",
   "metadata": {},
   "source": [
    "1. Invers multiplikatif <br>\n",
    "\n",
    "- Misalkan n=120. Manakah di antara nilai di bawah ini yang tidak memiliki invers?\n",
    "5,7,21,77,100\n",
    "- Berapakah nilai $n$ terkecil agar bilangan 1, 2, 3, …, 50 semuanya memiliki invers terhadap modulo $n$?"
   ]
  },
  {
   "cell_type": "code",
   "execution_count": 3,
   "metadata": {},
   "outputs": [
    {
     "name": "stdout",
     "output_type": "stream",
     "text": [
      "[False, True, False, True, False]\n",
      "Tidak memiliki invers dari n=120: 5       \n",
      "Tidak memiliki invers dari n=120: 21      \n",
      "Tidak memiliki invers dari n=120: 100     \n"
     ]
    }
   ],
   "source": [
    "# 1\n",
    "n = 120\n",
    "bilangan = [5, 7, 21, 77, 100]\n",
    "\n",
    "result = [is_multiplicative_inverse_exist(bilangan[i], n) for i in range(len(bilangan))]\n",
    "\n",
    "print(result)\n",
    "for i in range(len(result)):\n",
    "    if result[i] == False:    \n",
    "        print(f\"Tidak memiliki invers dari n=120: {bilangan[i] :<8d}\")"
   ]
  },
  {
   "cell_type": "code",
   "execution_count": 4,
   "metadata": {},
   "outputs": [
    {
     "name": "stdout",
     "output_type": "stream",
     "text": [
      "Nilai modulo n terkecil: 17\n",
      "Jumlah maximum True: 48\n"
     ]
    }
   ],
   "source": [
    "# 2\n",
    "bilangan = [i for i in range(1, 51)]\n",
    "\n",
    "hasil = [None, None]\n",
    "for n in range(2, 20):\n",
    "    temp = []\n",
    "    for a in bilangan:\n",
    "        temp.append(is_multiplicative_inverse_exist(a, n))\n",
    "    hasil.append(temp.count(True))\n",
    "\n",
    "n_max = max(hasil[2:])\n",
    "for j in range(2, len(hasil)):\n",
    "    if n_max == hasil[j]:\n",
    "        print(f\"Nilai modulo n terkecil: {j}\\nJumlah maximum True: {n_max}\")\n",
    "        break\n"
   ]
  },
  {
   "attachments": {},
   "cell_type": "markdown",
   "metadata": {},
   "source": [
    "2. Aritmatika $GF(2^8)$\n",
    "\n",
    "Implementasi trick perkalian $(BE)^{100}$"
   ]
  },
  {
   "cell_type": "code",
   "execution_count": 5,
   "metadata": {},
   "outputs": [
    {
     "data": {
      "text/plain": [
       "'11011000'"
      ]
     },
     "execution_count": 5,
     "metadata": {},
     "output_type": "execute_result"
    }
   ],
   "source": [
    "def power_hex(a: str, n: int) -> str:\n",
    "    a = hex_to_binary(a)\n",
    "    temp = a\n",
    "    for i in range(n-1):\n",
    "        a = multiply_binary(a, temp)    \n",
    "    \n",
    "    return a\n",
    "\n",
    "\n",
    "power_hex(\"BE\", 100)"
   ]
  },
  {
   "attachments": {},
   "cell_type": "markdown",
   "metadata": {},
   "source": [
    "3. Aritmatika $GF(2^8)$\n",
    "\n",
    "Invers multiplikatif"
   ]
  },
  {
   "cell_type": "code",
   "execution_count": 6,
   "metadata": {},
   "outputs": [
    {
     "data": {
      "text/plain": [
       "'00000010'"
      ]
     },
     "execution_count": 6,
     "metadata": {},
     "output_type": "execute_result"
    }
   ],
   "source": [
    "# Invers Multiplikatif GF(2^8) dengan brute froce\n",
    "def mult_inverse_2_8(P):\n",
    "    one = bin(1)[2:].zfill(8)\n",
    "    for i in range(1, 256):\n",
    "        binary = bin(i)[2:].zfill(8)\n",
    "        if multiply_binary(binary, P) == \"00000001\":\n",
    "            return binary\n",
    "\n",
    "mult_inverse_2_8(\"10001101\") \n"
   ]
  },
  {
   "cell_type": "code",
   "execution_count": 7,
   "metadata": {},
   "outputs": [],
   "source": [
    "# Bonus\n",
    "def discrete_log(a, b, n):\n",
    "    # a^k == b (mod n)\n",
    "    k = 1\n",
    "    for i in range(n):\n",
    "        k = (k * a) % n\n",
    "        if k == b: return i + 1\n",
    "    \n",
    "    # Inverse doesn't exist\n",
    "    return -1\n",
    "\n",
    "\n"
   ]
  },
  {
   "attachments": {},
   "cell_type": "markdown",
   "metadata": {},
   "source": [
    "4. "
   ]
  },
  {
   "cell_type": "code",
   "execution_count": 8,
   "metadata": {},
   "outputs": [
    {
     "name": "stdout",
     "output_type": "stream",
     "text": [
      "2\n",
      "8\n",
      "7\n",
      "18\n"
     ]
    }
   ],
   "source": [
    "# 4x = 2 (mod 3)\n",
    "for i in range(100):\n",
    "    if is_congruent_mod(3, 4*i, 2) == True:\n",
    "        print(i)\n",
    "        break\n",
    "\n",
    "# 3x^5 = 2 (mod 23)\n",
    "for i in range(100):\n",
    "    if is_congruent_mod(23, 3*(i**5), 2) == True:\n",
    "        print(i)\n",
    "        break\n",
    "    \n",
    "# 7x^10 + 1 = 0 (mod 23)\n",
    "for i in range(100):\n",
    "    if is_congruent_mod(23, (7*(i**10)) + 1, 0) == True:\n",
    "        print(i)\n",
    "        break\n",
    "    \n",
    "# 5^x = 6 (mod 23)\n",
    "for i in range(100):\n",
    "    if is_congruent_mod(23, (5**i), 6) == True:\n",
    "        print(i)\n",
    "        break"
   ]
  },
  {
   "attachments": {},
   "cell_type": "markdown",
   "metadata": {},
   "source": [
    "AES: Round - Implementasi Mix Column"
   ]
  },
  {
   "cell_type": "code",
   "execution_count": 9,
   "metadata": {},
   "outputs": [
    {
     "name": "stdout",
     "output_type": "stream",
     "text": [
      "[['62' '02' '27' '26']\n",
      " ['CF' '92' '91' '0D']\n",
      " ['0C' '0C' 'F4' 'D6']\n",
      " ['99' '18' '30' '74']]\n"
     ]
    }
   ],
   "source": [
    "import numpy as np\n",
    "from math import nan\n",
    "\n",
    "def mix_column(constant: list[list], matrix: list[list]):\n",
    "    result = np.array([[\"00\"] * len(constant)]*len(constant))\n",
    "\n",
    "    for i in range(len(constant)):\n",
    "        for j in range(len(matrix)):\n",
    "            for k in range(len(matrix[0])):\n",
    "                multi = multiply_hex(constant[i][k], matrix[k][j])\n",
    "                result[i][j] = add_hex(result[i][j], multi)\n",
    "                            \n",
    "    return result\n",
    "\n",
    "\n",
    "constant = [\n",
    "    [\"02\", \"03\", \"01\", \"01\"],\n",
    "    [\"01\", \"02\", \"03\", \"01\"],\n",
    "    [\"01\", \"01\", \"02\", \"03\"],\n",
    "    [\"03\", \"01\", \"01\", \"02\"],\n",
    "]\n",
    "matrix = [\n",
    "    [\"63\", \"C9\", \"FE\", \"30\"],\n",
    "    [\"F2\", \"63\", \"26\", \"F2\"],\n",
    "    [\"7D\", \"D4\", \"C9\", \"C9\"],\n",
    "    [\"D4\", \"FA\", \"63\", \"82\"],\n",
    "]\n",
    "\n",
    "ans = mix_column(constant, matrix)\n",
    "print(ans)\n"
   ]
  },
  {
   "cell_type": "code",
   "execution_count": 10,
   "metadata": {},
   "outputs": [
    {
     "name": "stdout",
     "output_type": "stream",
     "text": [
      "C4 + 0D + 7D + D4\n"
     ]
    }
   ],
   "source": [
    "def vector_x_vector(constant_vector: list[list], vector: list[str]):\n",
    "    result = []\n",
    "    for i in range(len(constant_vector)):\n",
    "        result.append(multiply_hex(constant_vector[i], vector[i]))\n",
    "    \n",
    "    dumb = \"\"\n",
    "    for j in range(len(result)):\n",
    "        dumb += f\"{result[j]} + \"\n",
    "    dumb = dumb[:-3]\n",
    "    print(dumb)\n",
    "\n",
    "\n",
    "constant_vector = [\"02\", \"03\", \"01\", \"01\"]\n",
    "vector = [\"62\", \"F2\", \"7D\", \"D4\"]\n",
    "\n",
    "vector_x_vector(constant_vector, vector)"
   ]
  },
  {
   "attachments": {},
   "cell_type": "markdown",
   "metadata": {},
   "source": [
    "<hr>"
   ]
  },
  {
   "cell_type": "code",
   "execution_count": 11,
   "metadata": {},
   "outputs": [
    {
     "data": {
      "text/plain": [
       "1181443899"
      ]
     },
     "execution_count": 11,
     "metadata": {},
     "output_type": "execute_result"
    }
   ],
   "source": [
    "# 1\n",
    "P = 1234567890\n",
    "sum_ = 0\n",
    "for k in range(111111, 999999 + 1):\n",
    "    sum_ += find_multiplicative_inverse(k, P)\n",
    "\n",
    "sum_ % P"
   ]
  },
  {
   "cell_type": "code",
   "execution_count": 12,
   "metadata": {},
   "outputs": [
    {
     "name": "stdout",
     "output_type": "stream",
     "text": [
      "10001110\n",
      "11111100\n",
      "00111100\n",
      "01110111\n",
      "10001110111111000011110001110111\n"
     ]
    }
   ],
   "source": [
    "# 4\n",
    "key = [1, 4, 3, 7, 0, 2, 6, 5]\n",
    "empat_1 = encrypt_transposition(8, \"01001011\", key)\n",
    "empat_2 = encrypt_transposition(8, \"11101101\", key)\n",
    "empat_3 = encrypt_transposition(8, \"01100101\", key)\n",
    "empat_4 = encrypt_transposition(8, \"10110111\", key)\n",
    "\n",
    "print(empat_1)\n",
    "print(empat_2)\n",
    "print(empat_3)\n",
    "print(empat_4)\n",
    "\n",
    "print(empat_1 + empat_2 + empat_3 + empat_4)\n"
   ]
  },
  {
   "cell_type": "code",
   "execution_count": 13,
   "metadata": {},
   "outputs": [
    {
     "data": {
      "text/plain": [
       "'10001111010001011110100010010110100100101000100111001110110001111111010100001000'"
      ]
     },
     "execution_count": 13,
     "metadata": {},
     "output_type": "execute_result"
    }
   ],
   "source": [
    "# 5\n",
    "plaintext  = \"0101000110100111111100110010110011101000000001001011100101101101\"\n",
    "ciphertext = \"0011110101011100100001111011111110010001010001100010000010101110\"\n",
    "\n",
    "enkrip_ini = \"11111100000010101101111111100100111010111111111001111101011100111100101010011111\"\n",
    "key = {plaintext[i:i+4]: ciphertext[i:i+4] for i in range(0, len(plaintext)-3, 4)}\n",
    "\n",
    "encrypt_substitution(4, enkrip_ini, key)"
   ]
  },
  {
   "cell_type": "code",
   "execution_count": 14,
   "metadata": {},
   "outputs": [
    {
     "data": {
      "text/plain": [
       "'111001101111001100001000001100110011001011101010111010010000'"
      ]
     },
     "execution_count": 14,
     "metadata": {},
     "output_type": "execute_result"
    }
   ],
   "source": [
    "# 6\n",
    "n = 10\n",
    "key = \"1001101010\"\n",
    "plaintext = \"011111000101010110100001100110010101100001110000010011111010\"\n",
    "ans = encrypt_key_whitener(n, plaintext, key)\n",
    "ans"
   ]
  },
  {
   "cell_type": "code",
   "execution_count": 15,
   "metadata": {},
   "outputs": [
    {
     "name": "stdout",
     "output_type": "stream",
     "text": [
      "1010111010110001001111101010 1110001111011101001101011000\n"
     ]
    }
   ],
   "source": [
    "# 8\n",
    "a = \"1010101110101100010011111010\"\n",
    "b = \"0011100011110111010011010110\"\n",
    "\n",
    "print(\"1010111010110001001111101010 1110001111011101001101011000\")"
   ]
  },
  {
   "cell_type": "code",
   "execution_count": 16,
   "metadata": {},
   "outputs": [
    {
     "data": {
      "text/plain": [
       "'fZXdXfZ^dVefZTY```YaX]`i^VYTfX^eVebeieV_`V`efdUf`'"
      ]
     },
     "execution_count": 16,
     "metadata": {},
     "output_type": "execute_result"
    }
   ],
   "source": [
    "# 13\n",
    "p = \"fZXdXfZ^dVefZTY```YaX]`i^VYTfX^eVebeieV_`V`efdUf`\"\n",
    "p"
   ]
  },
  {
   "cell_type": "code",
   "execution_count": 33,
   "metadata": {},
   "outputs": [
    {
     "data": {
      "text/plain": [
       "'295A7A29'"
      ]
     },
     "execution_count": 33,
     "metadata": {},
     "output_type": "execute_result"
    }
   ],
   "source": [
    "# 12\n",
    "p = \"4C4046BD\"\n",
    "p_rotword = \"4046BD4C\"\n",
    "p_subword = \"095A7A29\"\n",
    "Rcon6 = \"20000000\"\n",
    "\n",
    "t = add_hex(p_subword, Rcon6)\n",
    "t"
   ]
  },
  {
   "cell_type": "code",
   "execution_count": 34,
   "metadata": {},
   "outputs": [
    {
     "data": {
      "text/plain": [
       "'71C74CC2'"
      ]
     },
     "execution_count": 34,
     "metadata": {},
     "output_type": "execute_result"
    }
   ],
   "source": [
    "add_hex(\"589D36EB\", \"295A7A29\")"
   ]
  },
  {
   "cell_type": "code",
   "execution_count": null,
   "metadata": {},
   "outputs": [],
   "source": []
  }
 ],
 "metadata": {
  "kernelspec": {
   "display_name": "base",
   "language": "python",
   "name": "python3"
  },
  "language_info": {
   "codemirror_mode": {
    "name": "ipython",
    "version": 3
   },
   "file_extension": ".py",
   "mimetype": "text/x-python",
   "name": "python",
   "nbconvert_exporter": "python",
   "pygments_lexer": "ipython3",
   "version": "3.9.13"
  },
  "orig_nbformat": 4
 },
 "nbformat": 4,
 "nbformat_minor": 2
}
