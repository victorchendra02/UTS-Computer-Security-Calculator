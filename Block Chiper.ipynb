{
 "cells": [
  {
   "attachments": {},
   "cell_type": "markdown",
   "metadata": {},
   "source": [
    "### Block Chiper"
   ]
  },
  {
   "attachments": {},
   "cell_type": "markdown",
   "metadata": {},
   "source": [
    "#### Transposition Block"
   ]
  },
  {
   "cell_type": "code",
   "execution_count": 9,
   "metadata": {},
   "outputs": [
    {
     "name": "stdout",
     "output_type": "stream",
     "text": [
      "01100110\n",
      "True\n"
     ]
    }
   ],
   "source": [
    "def encrypt_transposition(n: int, m: str, k: list[int]) -> str:  \n",
    "    result = [\"\" for j in range(len(k))]\n",
    "    for i in range(len(k)):\n",
    "        result[k[i]] = m[i]\n",
    "\n",
    "    new = \"\"\n",
    "    for x in result:\n",
    "        new += x\n",
    "    return new\n",
    "\n",
    "\n",
    "n = 8\n",
    "key = [3, 5, 7, 1, 0, 2, 4, 6]\n",
    "plaintextbit = \"01010101\"\n",
    "ciphertext = encrypt_transposition(n, plaintextbit, key)\n",
    "\n",
    "print(ciphertext) # this should output 01100110\n",
    "print(ciphertext == \"01100110\")"
   ]
  },
  {
   "cell_type": "code",
   "execution_count": 10,
   "metadata": {},
   "outputs": [
    {
     "name": "stdout",
     "output_type": "stream",
     "text": [
      "01010101\n",
      "True\n"
     ]
    }
   ],
   "source": [
    "def decrypt_transposition(n: int, c: str, k: list[int]) -> str:\n",
    "    result = [\"\" for j in range(len(k))]\n",
    "    for i in range(len(k)):\n",
    "        result[i] = c[k[i]]\n",
    "\n",
    "    new = \"\"\n",
    "    for x in result:\n",
    "        new += x\n",
    "    return new\n",
    "\n",
    "\n",
    "ori_message = decrypt_transposition(n, ciphertext, key)\n",
    "print(ori_message) # this should output 01010101\n",
    "print(ori_message == \"01010101\")"
   ]
  },
  {
   "attachments": {},
   "cell_type": "markdown",
   "metadata": {},
   "source": [
    "#### Substitution Block"
   ]
  },
  {
   "cell_type": "code",
   "execution_count": 2,
   "metadata": {},
   "outputs": [
    {
     "name": "stdout",
     "output_type": "stream",
     "text": [
      "{'111': '101', '001': '001', '100': '011', '101': '100', '010': '010', '000': '111', '110': '110', '011': '000'}\n",
      "110001010010001100011011011101001000101100\n",
      "True\n"
     ]
    }
   ],
   "source": [
    "n = 3\n",
    "plaintext_breach = \"111001100101010000110011\"\n",
    "ciphertext_breach = \"101001011100010111110000\"\n",
    "\n",
    "def obtain_key_substitution_block():\n",
    "    return {'111': '101', '001': '001', '100': '011', '101': '100', '010': '010', '000': '111', '110': '110', '011': '000'}\n",
    "\n",
    "\n",
    "# key berupa dictionary yang menerjemahkan n-bit menjadi n-bit\n",
    "key = obtain_key_substitution_block()\n",
    "print(key)\n",
    "# this should output {'111': '101', '001': '001', '100': '011', '101': '100', '010': '010', '000': '111', '110': '110', '011': '000'}\n",
    "\n",
    "\n",
    "def encrypt_substitution(n, m, key):\n",
    "    result = \"\"\n",
    "    for i in range(0, len(m)-(n-1), n):\n",
    "        if m[i:i+n] in key:\n",
    "            result += key[m[i:i+n]]\n",
    "    return result\n",
    "\n",
    "\n",
    "plaintext = \"110001010010001101100100100111001011111101\"\n",
    "ciphertext = encrypt_substitution(n, plaintext, key)\n",
    "print(ciphertext) # this should output 110001010010001100011011011101001000101100\n",
    "print(ciphertext == \"110001010010001100011011011101001000101100\")"
   ]
  },
  {
   "cell_type": "code",
   "execution_count": 3,
   "metadata": {},
   "outputs": [
    {
     "name": "stdout",
     "output_type": "stream",
     "text": [
      "110001010010001101100100100111001011111101\n",
      "True\n"
     ]
    }
   ],
   "source": [
    "def decrypt_substitution(n, chiper_text, key):\n",
    "    def swap_key_value_dictionary(dct: dict) -> dict:\n",
    "        return {list(dct.values())[i]: list(dct.keys())[i] for i in range(len(dct.keys()))}\n",
    "\n",
    "    key = swap_key_value_dictionary(key)\n",
    "    result = \"\"\n",
    "    for i in range(0, len(chiper_text)-(n-1), n):\n",
    "        if chiper_text[i:i+n] in key:\n",
    "            result += key[chiper_text[i:i+n]]\n",
    "    return result\n",
    "\n",
    "\n",
    "print(decrypt_substitution(n, ciphertext, key))\n",
    "print(decrypt_substitution(n, ciphertext, key) == plaintext)"
   ]
  },
  {
   "attachments": {},
   "cell_type": "markdown",
   "metadata": {},
   "source": [
    "#### Key Whitener"
   ]
  },
  {
   "cell_type": "code",
   "execution_count": 9,
   "metadata": {},
   "outputs": [
    {
     "name": "stdout",
     "output_type": "stream",
     "text": [
      "01111100001111011011110001000011\n",
      "True\n"
     ]
    }
   ],
   "source": [
    "# n-bit key whitening\n",
    "\n",
    "n = 8\n",
    "# key berupa n-bit string\n",
    "key = \"10101001\"\n",
    "\n",
    "def encrypt_key_whitener(n: int, m, k):\n",
    "    temp = int(len(m)/n)\n",
    "    k = k * temp\n",
    "    \n",
    "    result = \"\"\n",
    "    for i in range(len(m)):\n",
    "        result += str((int(m[i]) + int(k[i])) % 2)\n",
    "    \n",
    "    return result\n",
    "\n",
    "    \n",
    "plaintextbit = \"11010101100101000001010111101010\"\n",
    "ciphertextbit = encrypt_key_whitener(n, plaintextbit, key)\n",
    "print(ciphertextbit) \n",
    "\n",
    "# this should output \"01111100001111011011110001000011\"\n",
    "print(ciphertextbit == \"01111100001111011011110001000011\")"
   ]
  },
  {
   "cell_type": "code",
   "execution_count": 10,
   "metadata": {},
   "outputs": [
    {
     "name": "stdout",
     "output_type": "stream",
     "text": [
      "11010101100101000001010111101010\n",
      "True\n"
     ]
    }
   ],
   "source": [
    "def decrypt_key_whitener(n: int, c, k):\n",
    "    temp = int(len(c)/n)\n",
    "    k = k * temp\n",
    "    \n",
    "    result = \"\"\n",
    "    for i in range(len(c)):\n",
    "        result += str((int(c[i]) - int(k[i])) % 2)\n",
    "    \n",
    "    return result\n",
    "\n",
    "\n",
    "ans = decrypt_key_whitener(n, ciphertextbit, key)\n",
    "print(ans)\n",
    "print(ans == plaintextbit)"
   ]
  },
  {
   "cell_type": "code",
   "execution_count": 2,
   "metadata": {},
   "outputs": [],
   "source": [
    "from utils import *\n",
    "\n"
   ]
  },
  {
   "cell_type": "code",
   "execution_count": 3,
   "metadata": {},
   "outputs": [
    {
     "name": "stdout",
     "output_type": "stream",
     "text": [
      "15\n"
     ]
    },
    {
     "data": {
      "text/plain": [
       "'1111'"
      ]
     },
     "execution_count": 3,
     "metadata": {},
     "output_type": "execute_result"
    }
   ],
   "source": [
    "\n",
    "def div_binary(a: str, b: str) -> str:\n",
    "    n = len(b)\n",
    "\n",
    "    for i in range(2**n):\n",
    "        result = str(format(i, f'0{n}b'))\n",
    "        temp = multiply_binary(b, result)\n",
    "        temp = add_binary(temp, \"1\")\n",
    "        \n",
    "        if temp == a:\n",
    "            break\n",
    "    print(i)\n",
    "    \n",
    "    return result\n",
    "\n",
    "div_binary(\"1101011\", \"1010\")"
   ]
  },
  {
   "cell_type": "code",
   "execution_count": 8,
   "metadata": {},
   "outputs": [
    {
     "name": "stdout",
     "output_type": "stream",
     "text": [
      "1010\n"
     ]
    }
   ],
   "source": [
    "a = [\"1010\", \"1001\"]\n",
    "res = a.pop(0)\n",
    "for i in range(len(a)):\n",
    "    res = add_binary(res, a[i])\n",
    "\n",
    "print(res)"
   ]
  },
  {
   "cell_type": "code",
   "execution_count": 4,
   "metadata": {},
   "outputs": [
    {
     "data": {
      "text/plain": [
       "True"
      ]
     },
     "execution_count": 4,
     "metadata": {},
     "output_type": "execute_result"
    }
   ],
   "source": [
    "2%5 == 27%5"
   ]
  },
  {
   "cell_type": "code",
   "execution_count": null,
   "metadata": {},
   "outputs": [],
   "source": [
    "def is_congruent_mod(n, a, b):\n",
    "    if ((a % n) == (b % n)):\n",
    "        return True\n",
    "    return False\n"
   ]
  }
 ],
 "metadata": {
  "kernelspec": {
   "display_name": "base",
   "language": "python",
   "name": "python3"
  },
  "language_info": {
   "codemirror_mode": {
    "name": "ipython",
    "version": 3
   },
   "file_extension": ".py",
   "mimetype": "text/x-python",
   "name": "python",
   "nbconvert_exporter": "python",
   "pygments_lexer": "ipython3",
   "version": "3.9.13"
  },
  "orig_nbformat": 4
 },
 "nbformat": 4,
 "nbformat_minor": 2
}
