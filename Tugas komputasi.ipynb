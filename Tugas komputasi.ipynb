{
 "cells": [
  {
   "attachments": {},
   "cell_type": "markdown",
   "metadata": {},
   "source": [
    "### Invers Multiplikatif"
   ]
  },
  {
   "cell_type": "code",
   "execution_count": 2,
   "metadata": {},
   "outputs": [
    {
     "name": "stdout",
     "output_type": "stream",
     "text": [
      "Result: \n",
      "148059137\n"
     ]
    }
   ],
   "source": [
    "from math import nan\n",
    "\n",
    "# the function returns k^{-1} (mod n), if exists\n",
    "def find_mult_inverse(k, n) -> list[int]:\n",
    "    a = [nan, k]\n",
    "    b = [nan, n]\n",
    "    q = [nan, k//n]\n",
    "    r = [nan, k%n]\n",
    "    s = [1, 0]\n",
    "    t = [0, 1]\n",
    "\n",
    "    i = 1\n",
    "    while (r[i]!=0):\n",
    "        i+=1\n",
    "        a.append(b[i-1])\n",
    "        b.append(r[i-1])\n",
    "        q.append(a[i] // b[i])\n",
    "        r.append(a[i] % b[i])\n",
    "        \n",
    "        s.append(s[i-2]-(s[i-1]*q[i-1]))\n",
    "        t.append(t[i-2]-(t[i-1]*q[i-1]))\n",
    "        \n",
    "    # this is the case when the GCD is not 1\n",
    "    if b[i] != 1:\n",
    "        print(\"Multiplicative inverse does not exist!\")\n",
    "        return -1\n",
    "\n",
    "    return s[i] % n\n",
    "\n",
    "\n",
    "P = 1_000_000_007\n",
    "test = [(i, P) for i in range(345678, 987654+1)]\n",
    "\n",
    "result = [find_mult_inverse(k, n) for k, n in test]\n",
    "result = sum(result)\n",
    "result = result % P\n",
    "\n",
    "print(\"Result: \")\n",
    "print(result)\n"
   ]
  },
  {
   "attachments": {},
   "cell_type": "markdown",
   "metadata": {},
   "source": [
    "### Logaritma Diskrit"
   ]
  },
  {
   "cell_type": "code",
   "execution_count": 1,
   "metadata": {},
   "outputs": [
    {
     "name": "stdout",
     "output_type": "stream",
     "text": [
      "Nilai logaritma diskrit = 8101199\n",
      "Di antara nilai logaritma diskrit yang dihitung, terdapat 32486 di antaranya yang nilainya tidak eksis.\n",
      "\n",
      "Waktu eksekusi:  5377.3644s\n"
     ]
    }
   ],
   "source": [
    "from time import perf_counter\n",
    "\n",
    "\n",
    "def discrete_log(a, n, b) -> int:\n",
    "    # this function returns log_{a, n} (b), i.e. \n",
    "    # the smallest integer k satisfying a^k ≡ b (mod n)\n",
    "    # if such k does not exist, print \"logarithm does not exist\"\n",
    "    k = 1\n",
    "    while True:\n",
    "        mod = a**k % n\n",
    "        if mod == b:\n",
    "            break\n",
    "        \n",
    "        if k > n:\n",
    "            return 0\n",
    "        \n",
    "        k += 1\n",
    "    \n",
    "    return k\n",
    "\n",
    "\n",
    "b = 103\n",
    "unexist = 0\n",
    "sum_result = 0\n",
    "\n",
    "start = perf_counter()\n",
    "for n in range(4567, 8765 + 1):\n",
    "    a_sum = 0\n",
    "    \n",
    "    for a in range(2, 10 + 1):\n",
    "        result = discrete_log(a, n, b)\n",
    "        if result == 0:\n",
    "            unexist += 1\n",
    "            continue\n",
    "        \n",
    "        a_sum += result\n",
    "    \n",
    "    sum_result += a_sum\n",
    "end = perf_counter()\n",
    "\n",
    "print(f\"Nilai logaritma diskrit = {sum_result}\")\n",
    "print(f\"Di antara nilai logaritma diskrit yang dihitung, terdapat {unexist} di antaranya yang nilainya tidak eksis.\")\n",
    "print(f\"\\nWaktu eksekusi: {end - start: .4f}s\")\n"
   ]
  },
  {
   "attachments": {},
   "cell_type": "markdown",
   "metadata": {},
   "source": [
    "*Documentation:*\n",
    "\n",
    "Nilai logaritma diskrit = 8101199\n",
    "Di antara nilai logaritma diskrit yang dihitung, terdapat 32486 di antaranya yang nilainya tidak eksis.\n",
    "\n",
    "Waktu eksekusi:  5377.3644s"
   ]
  },
  {
   "attachments": {},
   "cell_type": "markdown",
   "metadata": {},
   "source": [
    "### $GF(2^8)$"
   ]
  },
  {
   "attachments": {},
   "cell_type": "markdown",
   "metadata": {},
   "source": [
    "#### Polinomial $\\times$ Monomial"
   ]
  },
  {
   "cell_type": "code",
   "execution_count": 1,
   "metadata": {},
   "outputs": [
    {
     "name": "stdout",
     "output_type": "stream",
     "text": [
      "True\n",
      "True\n"
     ]
    }
   ],
   "source": [
    "def GF_multiply_by_x(P: str) -> str:\n",
    "    if P[0] == \"0\":\n",
    "        return P[1:] + \"0\"\n",
    "    else:\n",
    "        P = P[1:] + \"0\"\n",
    "        constant = \"00011011\"\n",
    "        \n",
    "        result = \"\"\n",
    "        for i in range(len(P)):\n",
    "            result += str((int(P[i]) + int(constant[i])) % 2)\n",
    "\n",
    "        return result\n",
    "\n",
    "\n",
    "print(GF_multiply_by_x(\"01010011\") == \"10100110\")\n",
    "print(GF_multiply_by_x(\"11010011\") == \"10111101\")\n"
   ]
  },
  {
   "attachments": {},
   "cell_type": "markdown",
   "metadata": {},
   "source": [
    "#### Polinomial $\\times$ Monomial $x^k$"
   ]
  },
  {
   "cell_type": "code",
   "execution_count": 2,
   "metadata": {},
   "outputs": [
    {
     "data": {
      "text/plain": [
       "True"
      ]
     },
     "execution_count": 2,
     "metadata": {},
     "output_type": "execute_result"
    }
   ],
   "source": [
    "def GF_multiply_by_x_k(P: str, k: int) -> str:\n",
    "    new = P\n",
    "    for i in range(k):\n",
    "        new = GF_multiply_by_x(new)\n",
    "        \n",
    "    return new\n",
    "\n",
    "\n",
    "# GF_multiply_by_x_k(\"01010011\", 3) == \"10101110\"\n",
    "GF_multiply_by_x_k(\"01010011\", 1) == \"10100110\"\n"
   ]
  },
  {
   "attachments": {},
   "cell_type": "markdown",
   "metadata": {},
   "source": [
    "#### Polinomial $\\times$ Polinomial\n"
   ]
  },
  {
   "cell_type": "code",
   "execution_count": 3,
   "metadata": {},
   "outputs": [
    {
     "data": {
      "text/plain": [
       "True"
      ]
     },
     "execution_count": 3,
     "metadata": {},
     "output_type": "execute_result"
    }
   ],
   "source": [
    "def GF_multiply(P: str, Q: str) -> str:\n",
    "    l = []\n",
    "    l.append(\"0\"*8) if Q[-1] == \"0\" else l.append(P)\n",
    "    \n",
    "    for i in range(len(P)-2, -1, -1):\n",
    "        if Q[i] != \"0\":\n",
    "            l.append(GF_multiply_by_x_k(P, abs(i-7)))\n",
    "        else:\n",
    "            l.append(\"0\"*8)\n",
    "\n",
    "    result = \"\"\n",
    "    for j in range(len(l)):\n",
    "        dumb = 0\n",
    "        for k in range(8):\n",
    "            dumb += int(l[k][j])\n",
    "            dumb = dumb % 2\n",
    "        result += str(dumb)\n",
    "\n",
    "    return result\n",
    "\n",
    "    \n",
    "GF_multiply(\"01010011\", \"00001011\") == \"01011011\"\n"
   ]
  },
  {
   "attachments": {},
   "cell_type": "markdown",
   "metadata": {},
   "source": [
    "#### QUIZ"
   ]
  },
  {
   "cell_type": "code",
   "execution_count": 7,
   "metadata": {},
   "outputs": [
    {
     "name": "stdout",
     "output_type": "stream",
     "text": [
      "(0F)^200 * (BE)^100: 01100001\n",
      "(0F)^200 * (BE)^50: 10111101\n"
     ]
    }
   ],
   "source": [
    "# (0F)^200\n",
    "nol_f_200 = \"00001111\"\n",
    "for i in range(200 - 1):\n",
    "    nol_f_200 = GF_multiply(nol_f_200, \"00001111\")\n",
    "# print(f\"(0F)^200: {nol_f_200}\")\n",
    "\n",
    "\n",
    "# (BE)^100\n",
    "be_100 = \"10111110\"\n",
    "for i in range(100 - 1):\n",
    "    be_100 = GF_multiply(be_100, \"10111110\")\n",
    "# print(f\"(BE)^100: {be_100}\")\n",
    "\n",
    "\n",
    "# (0F)^200 * (BE)^100\n",
    "ans_ = GF_multiply(nol_f_200, be_100)\n",
    "print(f\"(0F)^200 * (BE)^100: {ans_}\")\n",
    "\n",
    "\n",
    "# (DA)^50\n",
    "da_50 = \"11011010\"\n",
    "for i in range(50 - 1):\n",
    "    da_50 = GF_multiply(da_50, \"11011010\")\n",
    "# print(f\"(DA)^50: {da_50}\")\n",
    "\n",
    "\n",
    "# (0F)^200 * (DA)^50\n",
    "ans__ = GF_multiply(nol_f_200, da_50)\n",
    "print(f\"(0F)^200 * (BE)^50: {ans__}\")\n"
   ]
  },
  {
   "attachments": {},
   "cell_type": "markdown",
   "metadata": {},
   "source": [
    "01100001 + 10111101 = 11011100 = \"DC\""
   ]
  },
  {
   "cell_type": "code",
   "execution_count": null,
   "metadata": {},
   "outputs": [],
   "source": []
  }
 ],
 "metadata": {
  "kernelspec": {
   "display_name": "base",
   "language": "python",
   "name": "python3"
  },
  "language_info": {
   "codemirror_mode": {
    "name": "ipython",
    "version": 3
   },
   "file_extension": ".py",
   "mimetype": "text/x-python",
   "name": "python",
   "nbconvert_exporter": "python",
   "pygments_lexer": "ipython3",
   "version": "3.9.13"
  },
  "orig_nbformat": 4
 },
 "nbformat": 4,
 "nbformat_minor": 2
}
