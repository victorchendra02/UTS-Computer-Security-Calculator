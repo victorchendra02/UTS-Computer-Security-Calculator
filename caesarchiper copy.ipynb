{
 "cells": [
  {
   "cell_type": "code",
   "execution_count": 16,
   "metadata": {},
   "outputs": [],
   "source": [
    "import string\n",
    "\n",
    "\n",
    "def shift_key(n: int=0):    \n",
    "    alphabet = \"0123456789abcdefghijklmnopqrstuvwxyzABCDEFGHIJKLMNOPQRSTUVWXYZ!#$%&\\'()*+,-./:;<=>?@[\\\\]^_`{|}~ \"\n",
    "    shifted_key = dict()\n",
    "\n",
    "    o = 0\n",
    "    for i in range(n, len(alphabet)+n):\n",
    "        shifted_key[o] = alphabet[i % len(alphabet)]\n",
    "        o += 1\n",
    "    \n",
    "    return shifted_key\n",
    "\n",
    "\n",
    "def default_key():\n",
    "    alphabet = \"0123456789abcdefghijklmnopqrstuvwxyzABCDEFGHIJKLMNOPQRSTUVWXYZ!#$%&\\'()*+,-./:;<=>?@[\\\\]^_`{|}~ \"\n",
    "    key = dict()\n",
    "\n",
    "    for j in range(len(alphabet)):\n",
    "        key[alphabet[j]] = j\n",
    "        \n",
    "    return key\n",
    "\n",
    "\n",
    "def encrypt(words: str, shift: int):\n",
    "    encrypted_word = \"\"\n",
    "\n",
    "    dft_key = default_key()\n",
    "    new_key = shift_key(shift)\n",
    "\n",
    "    for char in words:\n",
    "        if char in dft_key:\n",
    "            encrypted_word += new_key[dft_key[char]]\n",
    "        else:\n",
    "            encrypted_word += char\n",
    "\n",
    "    return encrypted_word\n",
    "\n",
    "def decrypt(words: str, expected: str):\n",
    "    dft_key = default_key()\n",
    "    \n",
    "    cur = []\n",
    "    for char in words:\n",
    "        cur.append(dft_key[char])\n",
    "        \n",
    "    got_it = \"\"\n",
    "    ind = 0\n",
    "    print(\"Possible plaintext word:\")\n",
    "    for i in range(len(dft_key)):\n",
    "        new_str = \"\"\n",
    "        \n",
    "        new_key = shift_key(i)\n",
    "        for k in cur:\n",
    "            new_str += new_key[k]\n",
    "\n",
    "        print(f\"{new_str}\")\n",
    "        \n",
    "    return got_it\n"
   ]
  },
  {
   "cell_type": "code",
   "execution_count": 17,
   "metadata": {},
   "outputs": [
    {
     "data": {
      "text/plain": [
       "'0123456789abcdefghijklmnopqrstuvwxyzABCDEFGHIJKLMNOPQRSTUVWXYZ!\"#$%&\\'()*+,-./:;<=>?@[\\\\]^_`{|}~ \\t\\n\\r\\x0b\\x0c'"
      ]
     },
     "execution_count": 17,
     "metadata": {},
     "output_type": "execute_result"
    }
   ],
   "source": [
    "string.printable"
   ]
  },
  {
   "cell_type": "code",
   "execution_count": 18,
   "metadata": {},
   "outputs": [
    {
     "name": "stdout",
     "output_type": "stream",
     "text": [
      "Encrypted:\n",
      "\u001b[91mXkevqt\n"
     ]
    }
   ],
   "source": [
    "# Ecrypt\n",
    "if __name__ == \"__main__\":\n",
    "    strings = \"Victor\"  # str(input(\"Input:  \"))\n",
    "    shift = 2\n",
    "    \n",
    "    encrypted_strings = encrypt(strings, shift)\n",
    "    print(\"Encrypted:\")\n",
    "    print(\"\\033[91m\" + encrypted_strings)\n",
    "    "
   ]
  },
  {
   "cell_type": "code",
   "execution_count": 19,
   "metadata": {},
   "outputs": [
    {
     "data": {
      "text/plain": [
       "'fZ Xd X fZ ^dV e fZ TY```Y aX ]`i^VY  Tf X^e Vebe ieV_ `V `efdUf`'"
      ]
     },
     "execution_count": 19,
     "metadata": {},
     "output_type": "execute_result"
    }
   ],
   "source": [
    "\"fZ Xd X fZ ^dV e fZ TY```Y aX ]`i^VY  Tf X^e Vebe ieV_ `V `efdUf`\""
   ]
  },
  {
   "cell_type": "code",
   "execution_count": 20,
   "metadata": {
    "scrolled": false
   },
   "outputs": [
    {
     "name": "stdout",
     "output_type": "stream",
     "text": [
      "Possible plaintext word:\n",
      "fZ Xd X fZ ^dV e fZ TY```Y aX ]`i^VY  Tf X^e Vebe ieV_ `V `efdUf`\n",
      "g!0Ye0Y0g!0_eW0f0g!0UZ{{{Z0bY0^{j_WZ00Ug0Y_f0Wfcf0jfW`0{W0{fgeVg{\n",
      "h#1Zf1Z1h#1`fX1g1h#1V!|||!1cZ1_|k`X!11Vh1Z`g1Xgdg1kgX{1|X1|ghfWh|\n",
      "i$2!g2!2i$2{gY2h2i$2W#}}}#2d!2`}l{Y#22Wi2!{h2Yheh2lhY|2}Y2}higXi}\n",
      "j%3#h3#3j%3|hZ3i3j%3X$~~~$3e#3{~m|Z$33Xj3#|i3Zifi3miZ}3~Z3~ijhYj~\n",
      "k&4$i4$4k&4}i!4j4k&4Y%   %4f$4| n}!%44Yk4$}j4!jgj4nj!~4 !4 jkiZk \n",
      "l'5%j5%5l'5~j#5k5l'5Z&000&5g%5}0o~#&55Zl5%~k5#khk5ok# 50#50klj!l0\n",
      "m(6&k6&6m(6 k$6l6m(6!'111'6h&6~1p $'66!m6& l6$lil6pl$061$61lmk#m1\n",
      "n)7'l7'7n)70l%7m7n)7#(222(7i'7 2q0%(77#n7'0m7%mjm7qm%172%72mnl$n2\n",
      "o*8(m8(8o*81m&8n8o*8$)333)8j(803r1&)88$o8(1n8&nkn8rn&283&83nom%o3\n",
      "p+9)n9)9p+92n'9o9p+9%*444*9k)914s2'*99%p9)2o9'olo9so'394'94opn&p4\n",
      "q,a*oa*aq,a3o(apaq,a&+555+al*a25t3(+aa&qa*3pa(pmpatp(4a5(a5pqo'q5\n",
      "r-b+pb+br-b4p)bqbr-b',666,bm+b36u4),bb'rb+4qb)qnqbuq)5b6)b6qrp(r6\n",
      "s.c,qc,cs.c5q*crcs.c(-777-cn,c47v5*-cc(sc,5rc*rorcvr*6c7*c7rsq)s7\n",
      "t/d-rd-dt/d6r+dsdt/d).888.do-d58w6+.dd)td-6sd+spsdws+7d8+d8str*t8\n",
      "u:e.se.eu:e7s,eteu:e*/999/ep.e69x7,/ee*ue.7te,tqtext,8e9,e9tus+u9\n",
      "v;f/tf/fv;f8t-fufv;f+:aaa:fq/f7ay8-:ff+vf/8uf-urufyu-9fa-fauvt,va\n",
      "w<g:ug:gw<g9u.gvgw<g,;bbb;gr:g8bz9.;gg,wg:9vg.vsvgzv.agb.gbvwu-wb\n",
      "x=h;vh;hx=hav/hwhx=h-<ccc<hs;h9cAa/<hh-xh;awh/wtwhAw/bhc/hcwxv.xc\n",
      "y>i<wi<iy>ibw:ixiy>i.=ddd=it<iadBb:=ii.yi<bxi:xuxiBx:cid:idxyw/yd\n",
      "z?j=xj=jz?jcx;jyjz?j/>eee>ju=jbeCc;>jj/zj=cyj;yvyjCy;dje;jeyzx:ze\n",
      "A@k>yk>kA@kdy<kzkA@k:?fff?kv>kcfDd<?kk:Ak>dzk<zwzkDz<ekf<kfzAy;Af\n",
      "B[l?zl?lB[lez=lAlB[l;@ggg@lw?ldgEe=@ll;Bl?eAl=AxAlEA=flg=lgABz<Bg\n",
      "C\\m@Am@mC\\mfA>mBmC\\m<[hhh[mx@mehFf>[mm<Cm@fBm>ByBmFB>gmh>mhBCA=Ch\n",
      "D]n[Bn[nD]ngB?nCnD]n=\\iii\\ny[nfiGg?\\nn=Dn[gCn?CzCnGC?hni?niCDB>Di\n",
      "E^o\\Co\\oE^ohC@oDoE^o>]jjj]oz\\ogjHh@]oo>Eo\\hDo@DADoHD@ioj@ojDEC?Ej\n",
      "F_p]Dp]pF_piD[pEpF_p?^kkk^pA]phkIi[^pp?Fp]iEp[EBEpIE[jpk[pkEFD@Fk\n",
      "G`q^Eq^qG`qjE\\qFqG`q@_lll_qB^qilJj\\_qq@Gq^jFq\\FCFqJF\\kql\\qlFGE[Gl\n",
      "H{r_Fr_rH{rkF]rGrH{r[`mmm`rC_rjmKk]`rr[Hr_kGr]GDGrKG]lrm]rmGHF\\Hm\n",
      "I|s`Gs`sI|slG^sHsI|s\\{nnn{sD`sknLl^{ss\\Is`lHs^HEHsLH^msn^snHIG]In\n",
      "J}t{Ht{tJ}tmH_tItJ}t]|ooo|tE{tloMm_|tt]Jt{mIt_IFItMI_nto_toIJH^Jo\n",
      "K~u|Iu|uK~unI`uJuK~u^}ppp}uF|umpNn`}uu^Ku|nJu`JGJuNJ`oup`upJKI_Kp\n",
      "L v}Jv}vL voJ{vKvL v_~qqq~vG}vnqOo{~vv_Lv}oKv{KHKvOK{pvq{vqKLJ`Lq\n",
      "M0w~Kw~wM0wpK|wLwM0w` rrr wH~worPp| ww`Mw~pLw|LILwPL|qwr|wrLMK{Mr\n",
      "N1x Lx xN1xqL}xMxN1x{0sss0xI xpsQq}0xx{Nx qMx}MJMxQM}rxs}xsMNL|Ns\n",
      "O2y0My0yO2yrM~yNyO2y|1ttt1yJ0yqtRr~1yy|Oy0rNy~NKNyRN~syt~ytNOM}Ot\n",
      "P3z1Nz1zP3zsN zOzP3z}2uuu2zK1zruSs 2zz}Pz1sOz OLOzSO tzu zuOPN~Pu\n",
      "Q4A2OA2AQ4AtO0APAQ4A~3vvv3AL2AsvTt03AA~QA2tPA0PMPATP0uAv0AvPQO Qv\n",
      "R5B3PB3BR5BuP1BQBR5B 4www4BM3BtwUu14BB RB3uQB1QNQBUQ1vBw1BwQRP0Rw\n",
      "S6C4QC4CS6CvQ2CRCS6C05xxx5CN4CuxVv25CC0SC4vRC2RORCVR2wCx2CxRSQ1Sx\n",
      "T7D5RD5DT7DwR3DSDT7D16yyy6DO5DvyWw36DD1TD5wSD3SPSDWS3xDy3DySTR2Ty\n",
      "U8E6SE6EU8ExS4ETEU8E27zzz7EP6EwzXx47EE2UE6xTE4TQTEXT4yEz4EzTUS3Uz\n",
      "V9F7TF7FV9FyT5FUFV9F38AAA8FQ7FxAYy58FF3VF7yUF5URUFYU5zFA5FAUVT4VA\n",
      "WaG8UG8GWaGzU6GVGWaG49BBB9GR8GyBZz69GG4WG8zVG6VSVGZV6AGB6GBVWU5WB\n",
      "XbH9VH9HXbHAV7HWHXbH5aCCCaHS9HzC!A7aHH5XH9AWH7WTWH!W7BHC7HCWXV6XC\n",
      "YcIaWIaIYcIBW8IXIYcI6bDDDbITaIAD#B8bII6YIaBXI8XUXI#X8CID8IDXYW7YD\n",
      "ZdJbXJbJZdJCX9JYJZdJ7cEEEcJUbJBE$C9cJJ7ZJbCYJ9YVYJ$Y9DJE9JEYZX8ZE\n",
      "!eKcYKcK!eKDYaKZK!eK8dFFFdKVcKCF%DadKK8!KcDZKaZWZK%ZaEKFaKFZ!Y9!F\n",
      "#fLdZLdL#fLEZbL!L#fL9eGGGeLWdLDG&EbeLL9#LdE!Lb!X!L&!bFLGbLG!#Za#G\n",
      "$gMe!MeM$gMF!cM#M$gMafHHHfMXeMEH'FcfMMa$MeF#Mc#Y#M'#cGMHcMH#$!b$H\n",
      "%hNf#NfN%hNG#dN$N%hNbgIIIgNYfNFI(GdgNNb%NfG$Nd$Z$N($dHNIdNI$%#c%I\n",
      "&iOg$OgO&iOH$eO%O&iOchJJJhOZgOGJ)HehOOc&OgH%Oe%!%O)%eIOJeOJ%&$d&J\n",
      "'jPh%PhP'jPI%fP&P'jPdiKKKiP!hPHK*IfiPPd'PhI&Pf&#&P*&fJPKfPK&'%e'K\n",
      "(kQi&QiQ(kQJ&gQ'Q(kQejLLLjQ#iQIL+JgjQQe(QiJ'Qg'$'Q+'gKQLgQL'(&f(L\n",
      ")lRj'RjR)lRK'hR(R)lRfkMMMkR$jRJM,KhkRRf)RjK(Rh(%(R,(hLRMhRM()'g)M\n",
      "*mSk(SkS*mSL(iS)S*mSglNNNlS%kSKN-LilSSg*SkL)Si)&)S-)iMSNiSN)*(h*N\n",
      "+nTl)TlT+nTM)jT*T+nThmOOOmT&lTLO.MjmTTh+TlM*Tj*'*T.*jNTOjTO*+)i+O\n",
      ",oUm*UmU,oUN*kU+U,oUinPPPnU'mUMP/NknUUi,UmN+Uk+(+U/+kOUPkUP+,*j,P\n",
      "-pVn+VnV-pVO+lV,V-pVjoQQQoV(nVNQ:OloVVj-VnO,Vl,),V:,lPVQlVQ,-+k-Q\n",
      ".qWo,WoW.qWP,mW-W.qWkpRRRpW)oWOR;PmpWWk.WoP-Wm-*-W;-mQWRmWR-.,l.R\n",
      "/rXp-XpX/rXQ-nX.X/rXlqSSSqX*pXPS<QnqXXl/XpQ.Xn.+.X<.nRXSnXS./-m/S\n",
      ":sYq.YqY:sYR.oY/Y:sYmrTTTrY+qYQT=RorYYm:YqR/Yo/,/Y=/oSYToYT/:.n:T\n",
      ";tZr/ZrZ;tZS/pZ:Z;tZnsUUUsZ,rZRU>SpsZZn;ZrS:Zp:-:Z>:pTZUpZU:;/o;U\n",
      "<u!s:!s!<u!T:q!;!<u!otVVVt!-s!SV?Tqt!!o<!sT;!q;.;!?;qU!Vq!V;<:p<V\n",
      "=v#t;#t#=v#U;r#<#=v#puWWWu#.t#TW@Uru##p=#tU<#r</<#@<rV#Wr#W<=;q=W\n",
      ">w$u<$u$>w$V<s$=$>w$qvXXXv$/u$UX[Vsv$$q>$uV=$s=:=$[=sW$Xs$X=><r>X\n",
      "?x%v=%v%?x%W=t%>%?x%rwYYYw%:v%VY\\Wtw%%r?%vW>%t>;>%\\>tX%Yt%Y>?=s?Y\n",
      "@y&w>&w&@y&X>u&?&@y&sxZZZx&;w&WZ]Xux&&s@&wX?&u?<?&]?uY&Zu&Z?@>t@Z\n",
      "[z'x?'x'[z'Y?v'@'[z'ty!!!y'<x'X!^Yvy''t['xY@'v@=@'^@vZ'!v'!@[?u[!\n",
      "\\A(y@(y(\\A(Z@w([(\\A(uz###z(=y(Y#_Zwz((u\\(yZ[(w[>[(_[w!(#w(#[\\@v\\#\n",
      "]B)z[)z)]B)![x)\\)]B)vA$$$A)>z)Z$`!xA))v])z!\\)x\\?\\)`\\x#)$x)$\\][w]$\n",
      "^C*A\\*A*^C*#\\y*]*^C*wB%%%B*?A*!%{#yB**w^*A#]*y]@]*{]y$*%y*%]^\\x^%\n",
      "_D+B]+B+_D+$]z+^+_D+xC&&&C+@B+#&|$zC++x_+B$^+z^[^+|^z%+&z+&^_]y_&\n",
      "`E,C^,C,`E,%^A,_,`E,yD'''D,[C,$'}%AD,,y`,C%_,A_\\_,}_A&,'A,'_`^z`'\n",
      "{F-D_-D-{F-&_B-`-{F-zE(((E-\\D-%(~&BE--z{-D&`-B`]`-~`B'-(B-(`{_A{(\n",
      "|G.E`.E.|G.'`C.{.|G.AF)))F.]E.&) 'CF..A|.E'{.C{^{. {C(.)C.){|`B|)\n",
      "}H/F{/F/}H/({D/|/}H/BG***G/^F/'*0(DG//B}/F(|/D|_|/0|D)/*D/*|}{C}*\n",
      "~I:G|:G:~I:)|E:}:~I:CH+++H:_G:(+1)EH::C~:G)}:E}`}:1}E*:+E:+}~|D~+\n",
      " J;H};H; J;*}F;~; J;DI,,,I;`H;),2*FI;;D ;H*~;F~{~;2~F+;,F;,~ }E ,\n",
      "0K<I~<I<0K<+~G< <0K<EJ---J<{I<*-3+GJ<<E0<I+ <G | <3 G,<-G<- 0~F0-\n",
      "1L=J =J=1L=, H=0=1L=FK...K=|J=+.4,HK==F1=J,0=H0}0=40H-=.H=.01 G1.\n",
      "2M>K0>K>2M>-0I>1>2M>GL///L>}K>,/5-IL>>G2>K-1>I1~1>51I.>/I>/120H2/\n",
      "3N?L1?L?3N?.1J?2?3N?HM:::M?~L?-:6.JM??H3?L.2?J2 2?62J/?:J?:231I3:\n",
      "4O@M2@M@4O@/2K@3@4O@IN;;;N@ M@.;7/KN@@I4@M/3@K303@73K:@;K@;342J4;\n",
      "5P[N3[N[5P[:3L[4[5P[JO<<<O[0N[/<8:LO[[J5[N:4[L414[84L;[<L[<453K5<\n",
      "6Q\\O4\\O\\6Q\\;4M\\5\\6Q\\KP===P\\1O\\:=9;MP\\\\K6\\O;5\\M525\\95M<\\=M\\=564L6=\n",
      "7R]P5]P]7R]<5N]6]7R]LQ>>>Q]2P];>a<NQ]]L7]P<6]N636]a6N=]>N]>675M7>\n",
      "8S^Q6^Q^8S^=6O^7^8S^MR???R^3Q^<?b=OR^^M8^Q=7^O747^b7O>^?O^?786N8?\n",
      "9T_R7_R_9T_>7P_8_9T_NS@@@S_4R_=@c>PS__N9_R>8_P858_c8P?_@P_@897O9@\n",
      "aU`S8`S`aU`?8Q`9`aU`OT[[[T`5S`>[d?QT``Oa`S?9`Q969`d9Q@`[Q`[9a8Pa[\n",
      "bV{T9{T{bV{@9R{a{bV{PU\\\\\\U{6T{?\\e@RU{{Pb{T@a{Ra7a{eaR[{\\R{\\ab9Qb\\\n",
      "cW|Ua|U|cW|[aS|b|cW|QV]]]V|7U|@]f[SV||Qc|U[b|Sb8b|fbS\\|]S|]bcaRc]\n",
      "dX}Vb}V}dX}\\bT}c}dX}RW^^^W}8V}[^g\\TW}}Rd}V\\c}Tc9c}gcT]}^T}^cdbSd^\n",
      "eY~Wc~W~eY~]cU~d~eY~SX___X~9W~\\_h]UX~~Se~W]d~Udad~hdU^~_U~_decTe_\n"
     ]
    }
   ],
   "source": [
    "# Decrypt\n",
    "if __name__ == \"__main__\":\n",
    "    decrypted_strings = decrypt(\"fZ Xd X fZ ^dV e fZ TY```Y aX ]`i^VY  Tf X^e Vebe ieV_ `V `efdUf`\", \"\")\n"
   ]
  },
  {
   "cell_type": "code",
   "execution_count": null,
   "metadata": {},
   "outputs": [],
   "source": []
  }
 ],
 "metadata": {
  "kernelspec": {
   "display_name": "Python 3 (ipykernel)",
   "language": "python",
   "name": "python3"
  },
  "language_info": {
   "codemirror_mode": {
    "name": "ipython",
    "version": 3
   },
   "file_extension": ".py",
   "mimetype": "text/x-python",
   "name": "python",
   "nbconvert_exporter": "python",
   "pygments_lexer": "ipython3",
   "version": "3.10.2"
  },
  "vscode": {
   "interpreter": {
    "hash": "ae1ddcff7fb3589e56c1735bd04bc544f28a9960cac663cd0016f5d7384b912c"
   }
  }
 },
 "nbformat": 4,
 "nbformat_minor": 2
}
